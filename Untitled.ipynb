{
 "cells": [
  {
   "cell_type": "code",
   "execution_count": 47,
   "metadata": {},
   "outputs": [
    {
     "name": "stdout",
     "output_type": "stream",
     "text": [
      "[0]\n"
     ]
    }
   ],
   "source": [
    "import onnx\n",
    "import onnxruntime as rt\n",
    "import numpy as np\n",
    "import pandas as pd\n",
    "from pypmml import Model\n",
    "import cv2\n",
    "\n",
    "# pmml\n",
    "# model = Model.fromFile('./data/model.pmml')\n",
    "\n",
    "# csv = pd.read_csv('./data/mytest.csv')\n",
    "# res = np.array(model.predict(csv))\n",
    "# y_test = np.argmax(res, axis=1)\n",
    "\n",
    "# onnx\n",
    "# import cv2\n",
    "# image = cv2.imread('./data/image.record_dat')\n",
    "# gray = cv2.cvtColor(image, cv2.COLOR_BGR2GRAY)\n",
    "# gray = cv2.resize(gray, (28,28)).astype(np.float32) / 255\n",
    "# input = np.reshape(gray, (1,1,28,28))\n",
    "\n",
    "# model = onnx.load(\"./data/mnist-8.onnx\")\n",
    "# sess = rt.InferenceSession(model.SerializeToString())\n",
    "# inputs = {}\n",
    "# outputs = [x.name for x in sess.get_outputs()]\n",
    "# for i, input_ele in enumerate(sess.get_inputs()):\n",
    "#     inputs[input_ele.name] = input\n",
    "\n",
    "# X = sess.run(outputs, inputs)\n",
    "# prob = np.exp(X[0]) / np.sum(np.exp(X[0]), axis=1)\n",
    "# print(np.argmax(prob, axis=1))"
   ]
  }
 ],
 "metadata": {
  "kernelspec": {
   "display_name": "Python 3",
   "language": "python",
   "name": "python3"
  },
  "language_info": {
   "codemirror_mode": {
    "name": "ipython",
    "version": 3
   },
   "file_extension": ".py",
   "mimetype": "text/x-python",
   "name": "python",
   "nbconvert_exporter": "python",
   "pygments_lexer": "ipython3",
   "version": "3.8.10"
  }
 },
 "nbformat": 4,
 "nbformat_minor": 4
}
